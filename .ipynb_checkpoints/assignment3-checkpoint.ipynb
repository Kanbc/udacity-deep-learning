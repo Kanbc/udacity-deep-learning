{
 "cells": [
  {
   "cell_type": "markdown",
   "metadata": {},
   "source": [
    "# Regularization"
   ]
  },
  {
   "cell_type": "markdown",
   "metadata": {},
   "source": [
    "The goal of this assignment is to explore regularization techniques.\n",
    "- L2\n",
    "- Dropout"
   ]
  },
  {
   "cell_type": "code",
   "execution_count": 1,
   "metadata": {},
   "outputs": [],
   "source": [
    "# These are all the modules we'll be using later. Make sure you can import them\n",
    "# before proceeding further.\n",
    "from __future__ import print_function\n",
    "import numpy as np\n",
    "import tensorflow as tf\n",
    "from six.moves import cPickle as pickle"
   ]
  },
  {
   "cell_type": "markdown",
   "metadata": {},
   "source": [
    "First reload the data we generated in 1_notmnist.ipynb."
   ]
  },
  {
   "cell_type": "code",
   "execution_count": 2,
   "metadata": {},
   "outputs": [
    {
     "name": "stdout",
     "output_type": "stream",
     "text": [
      "Training set (200000, 28, 28) (200000,)\n",
      "Validation set (10000, 28, 28) (10000,)\n",
      "Test set (10000, 28, 28) (10000,)\n"
     ]
    }
   ],
   "source": [
    "pickle_file = 'notMNIST.pickle'\n",
    "\n",
    "with open(pickle_file, 'rb') as f:\n",
    "    save = pickle.load(f)\n",
    "    train_dataset = save['train_dataset']\n",
    "    train_labels = save['train_labels']\n",
    "    valid_dataset = save['valid_dataset']\n",
    "    valid_labels = save['valid_labels']\n",
    "    test_dataset = save['test_dataset']\n",
    "    test_labels = save['test_labels']\n",
    "    del save  # hint to help gc free up memory\n",
    "    print('Training set', train_dataset.shape, train_labels.shape)\n",
    "    print('Validation set', valid_dataset.shape, valid_labels.shape)\n",
    "    print('Test set', test_dataset.shape, test_labels.shape)"
   ]
  },
  {
   "cell_type": "markdown",
   "metadata": {},
   "source": [
    "Reformat into a shape that's more adapted to the models we're going to train:\n",
    "\n",
    "- data as a flat matrix,\n",
    "- labels as float 1-hot encodings."
   ]
  },
  {
   "cell_type": "code",
   "execution_count": 4,
   "metadata": {},
   "outputs": [
    {
     "name": "stdout",
     "output_type": "stream",
     "text": [
      "Training set (200000, 784) (200000, 10)\n",
      "Validation set (10000, 784) (10000, 10)\n",
      "Test set (10000, 784) (10000, 10)\n"
     ]
    }
   ],
   "source": [
    "image_size = 28\n",
    "num_labels = 10\n",
    "\n",
    "def reformat(dataset, labels):\n",
    "    dataset = dataset.reshape((-1, image_size * image_size)).astype(np.float32)\n",
    "    # Map 1 to [0.0, 1.0, 0.0 ...], 2 to [0.0, 0.0, 1.0 ...]\n",
    "    labels = (np.arange(num_labels) == labels[:,None]).astype(np.float32)\n",
    "    return dataset, labels\n",
    "\n",
    "train_dataset, train_labels = reformat(train_dataset, train_labels)\n",
    "valid_dataset, valid_labels = reformat(valid_dataset, valid_labels)\n",
    "test_dataset, test_labels = reformat(test_dataset, test_labels)\n",
    "print('Training set', train_dataset.shape, train_labels.shape)\n",
    "print('Validation set', valid_dataset.shape, valid_labels.shape)\n",
    "print('Test set', test_dataset.shape, test_labels.shape)"
   ]
  },
  {
   "cell_type": "code",
   "execution_count": 5,
   "metadata": {},
   "outputs": [],
   "source": [
    "def accuracy(predictions, labels):\n",
    "    return (100.0 * np.sum(np.argmax(predictions, 1) == np.argmax(labels, 1))\n",
    "          / predictions.shape[0])"
   ]
  },
  {
   "cell_type": "markdown",
   "metadata": {},
   "source": [
    "## Problem 1\n",
    "Introduce and tune L2 regularization for both logistic and neural network models. Remember that L2 amounts to adding a penalty on the norm of the weights to the loss. In TensorFlow, you can compute the L2 loss for a tensor t using nn.l2_loss(t). The right amount of regularization should improve your validation / test accuracy."
   ]
  },
  {
   "cell_type": "markdown",
   "metadata": {},
   "source": [
    "![](img/41.png)"
   ]
  },
  {
   "cell_type": "markdown",
   "metadata": {},
   "source": [
    "### Logistic"
   ]
  },
  {
   "cell_type": "markdown",
   "metadata": {},
   "source": [
    "แบบ Non-reg\n",
    "- test accuracy = 85.6%\n",
    "- validation accuracy = 78.2%"
   ]
  },
  {
   "cell_type": "markdown",
   "metadata": {},
   "source": [
    "ตัวแปรที่ใช้ทั้งสอง model"
   ]
  },
  {
   "cell_type": "code",
   "execution_count": 11,
   "metadata": {},
   "outputs": [],
   "source": [
    "# Parameters\n",
    "batch_size = 128\n",
    "display_step = 500\n",
    "\n",
    "# Models Parameters\n",
    "num_input = 784 # img shape: 28*28\n",
    "num_classes = 10 # A-J alphabet"
   ]
  },
  {
   "cell_type": "code",
   "execution_count": 17,
   "metadata": {},
   "outputs": [],
   "source": [
    "batch_size = 128\n",
    "\n",
    "# This is a good beta value to start with\n",
    "beta = 0.01\n",
    "\n",
    "graph = tf.Graph()\n",
    "with graph.as_default():\n",
    "\n",
    "    # Input data. For the training data, we use a placeholder that will be fed\n",
    "    # at run time with a training minibatch.\n",
    "    tf_train_dataset = tf.placeholder(tf.float32, shape=(batch_size, num_input))\n",
    "    tf_train_labels = tf.placeholder(tf.float32, shape=(batch_size, num_classes))\n",
    "    tf_valid_dataset = tf.constant(valid_dataset)\n",
    "    tf_test_dataset = tf.constant(test_dataset)\n",
    "\n",
    "    # Variables.\n",
    "    weights = tf.Variable(tf.truncated_normal([num_input, num_classes]))\n",
    "    biases  = tf.Variable(tf.zeros([num_classes]))\n",
    "\n",
    "    # Training computation.\n",
    "    logits = tf.matmul(tf_train_dataset, weights) + biases\n",
    "    loss = tf.reduce_mean(tf.nn.softmax_cross_entropy_with_logits(labels=tf_train_labels, logits=logits))\n",
    "    regularizer = tf.nn.l2_loss(weights)\n",
    "    loss = tf.reduce_mean(loss + beta * regularizer)\n",
    "\n",
    "    # Optimizer.\n",
    "    optimizer = tf.train.GradientDescentOptimizer(0.5).minimize(loss)\n",
    "\n",
    "    # Predictions for the training, validation, and test data.\n",
    "    train_prediction = tf.nn.softmax(logits)\n",
    "    valid_prediction = tf.nn.softmax(tf.matmul(tf_valid_dataset, weights) + biases)\n",
    "    test_prediction = tf.nn.softmax(tf.matmul(tf_test_dataset, weights) + biases)"
   ]
  },
  {
   "cell_type": "code",
   "execution_count": 18,
   "metadata": {},
   "outputs": [
    {
     "name": "stdout",
     "output_type": "stream",
     "text": [
      "Initialized\n",
      "Minibatch loss at step 0: 46.850597\n",
      "Minibatch accuracy: 9.4%\n",
      "Validation accuracy: 12.6%\n",
      "Minibatch loss at step 500: 0.801257\n",
      "Minibatch accuracy: 85.2%\n",
      "Validation accuracy: 80.2%\n",
      "Minibatch loss at step 1000: 0.777242\n",
      "Minibatch accuracy: 82.0%\n",
      "Validation accuracy: 81.0%\n",
      "Minibatch loss at step 1500: 0.899090\n",
      "Minibatch accuracy: 78.1%\n",
      "Validation accuracy: 80.5%\n",
      "Minibatch loss at step 2000: 0.596310\n",
      "Minibatch accuracy: 85.2%\n",
      "Validation accuracy: 80.0%\n",
      "Minibatch loss at step 2500: 0.711120\n",
      "Minibatch accuracy: 82.8%\n",
      "Validation accuracy: 81.3%\n",
      "Minibatch loss at step 3000: 0.755094\n",
      "Minibatch accuracy: 83.6%\n",
      "Validation accuracy: 81.4%\n",
      "Test accuracy: 88.3%\n"
     ]
    }
   ],
   "source": [
    "num_steps = 3001\n",
    "\n",
    "with tf.Session(graph=graph) as session:\n",
    "    tf.global_variables_initializer().run()\n",
    "    print(\"Initialized\")\n",
    "    for step in range(num_steps):\n",
    "        # Pick an offset within the training data, which has been randomized.\n",
    "        # Note: we could use better randomization across epochs.\n",
    "        offset = (step * batch_size) % (train_labels.shape[0] - batch_size)\n",
    "        # Generate a minibatch.\n",
    "        batch_data = train_dataset[offset:(offset + batch_size), :]\n",
    "        batch_labels = train_labels[offset:(offset + batch_size), :]\n",
    "        # Prepare a dictionary telling the session where to feed the minibatch.\n",
    "        # The key of the dictionary is the placeholder node of the graph to be fed,\n",
    "        # and the value is the numpy array to feed to it.\n",
    "        feed_dict = {tf_train_dataset : batch_data, tf_train_labels : batch_labels}\n",
    "        _, l, predictions = session.run(\n",
    "          [optimizer, loss, train_prediction], feed_dict=feed_dict)\n",
    "        if (step % display_step == 0):\n",
    "            print(\"Minibatch loss at step %d: %f\" % (step, l))\n",
    "            print(\"Minibatch accuracy: %.1f%%\" % accuracy(predictions, batch_labels))\n",
    "            print(\"Validation accuracy: %.1f%%\" % accuracy(\n",
    "                valid_prediction.eval(), valid_labels))\n",
    "    print(\"Test accuracy: %.1f%%\" % accuracy(test_prediction.eval(), test_labels))"
   ]
  },
  {
   "cell_type": "markdown",
   "metadata": {},
   "source": [
    "### Neural network"
   ]
  },
  {
   "cell_type": "markdown",
   "metadata": {},
   "source": [
    "แบบ Non-reg\n",
    "- test accuracy = 84.1%\n",
    "- validation accuracy = 90.4%"
   ]
  },
  {
   "cell_type": "code",
   "execution_count": 25,
   "metadata": {},
   "outputs": [],
   "source": [
    "# Parameters \n",
    "learning_rate = 0.5\n",
    "\n",
    "# Network Parameters\n",
    "n_hidden_1 = 1024 # 1st layer number of neurons\n",
    "beta = 0.01"
   ]
  },
  {
   "cell_type": "code",
   "execution_count": 26,
   "metadata": {},
   "outputs": [],
   "source": [
    "graph = tf.Graph()\n",
    "with graph.as_default():\n",
    "\n",
    "    # Input data. For the training data, we use a placeholder that will be fed\n",
    "    # at run time with a training minibatch.\n",
    "    tf_train_dataset = tf.placeholder(tf.float32, shape=(batch_size, num_input))\n",
    "    tf_train_labels = tf.placeholder(tf.float32, shape=(batch_size, num_classes))\n",
    "    tf_valid_dataset = tf.constant(valid_dataset)\n",
    "    tf_test_dataset = tf.constant(test_dataset)\n",
    "\n",
    "    # Variables - store layers weight & bias\n",
    "    weights = {\n",
    "        'h1': tf.Variable(tf.truncated_normal([num_input, n_hidden_1])),\n",
    "        'out': tf.Variable(tf.truncated_normal([n_hidden_1, num_classes]))\n",
    "    }\n",
    "    biases = {\n",
    "        'b1': tf.Variable(tf.truncated_normal([n_hidden_1])),\n",
    "        'out': tf.Variable(tf.truncated_normal([num_classes]))\n",
    "    }\n",
    "\n",
    "    # Training computation.\n",
    "    # - Hidden fully connected layer with 256 neurons\n",
    "    layer_1 = tf.nn.relu(tf.add(tf.matmul(tf_train_dataset, weights['h1']), biases['b1']))\n",
    "    # - Output fully connected layer with a neuron for each class\n",
    "    logits = tf.matmul(layer_1, weights['out']) + biases['out']\n",
    "    \n",
    "    loss = tf.reduce_mean(tf.nn.softmax_cross_entropy_with_logits(labels=tf_train_labels, logits=logits))\n",
    "    regularizers = tf.nn.l2_loss(weights['h1']) + tf.nn.l2_loss(weights['out'])\n",
    "    loss = tf.reduce_mean(loss + beta * regularizers)\n",
    "\n",
    "    # Optimizer.\n",
    "    optimizer = tf.train.GradientDescentOptimizer(learning_rate).minimize(loss)\n",
    "\n",
    "    # Predictions for the training, validation, and test data.\n",
    "    train_prediction = tf.nn.softmax(logits)\n",
    "    layer_1_valid = tf.nn.relu(tf.add(tf.matmul(tf_valid_dataset, weights['h1']), biases['b1']))\n",
    "    valid_prediction = tf.nn.softmax(tf.matmul(layer_1_valid, weights['out']) + biases['out'])\n",
    "    layer_1_test = tf.nn.relu(tf.add(tf.matmul(tf_test_dataset, weights['h1']), biases['b1']))\n",
    "    test_prediction  = tf.nn.softmax(tf.matmul(layer_1_test, weights['out']) + biases['out'])"
   ]
  },
  {
   "cell_type": "code",
   "execution_count": 27,
   "metadata": {},
   "outputs": [
    {
     "name": "stdout",
     "output_type": "stream",
     "text": [
      "Initialized\n",
      "Minibatch loss at step 0: 3463.750244\n",
      "Minibatch accuracy: 10.9%\n",
      "Validation accuracy: 29.7%\n",
      "Minibatch loss at step 500: 21.180162\n",
      "Minibatch accuracy: 87.5%\n",
      "Validation accuracy: 83.0%\n",
      "Minibatch loss at step 1000: 0.905756\n",
      "Minibatch accuracy: 82.0%\n",
      "Validation accuracy: 82.7%\n",
      "Minibatch loss at step 1500: 0.837584\n",
      "Minibatch accuracy: 80.5%\n",
      "Validation accuracy: 82.3%\n",
      "Minibatch loss at step 2000: 0.582102\n",
      "Minibatch accuracy: 88.3%\n",
      "Validation accuracy: 83.2%\n",
      "Minibatch loss at step 2500: 0.723619\n",
      "Minibatch accuracy: 83.6%\n",
      "Validation accuracy: 83.9%\n",
      "Minibatch loss at step 3000: 0.730120\n",
      "Minibatch accuracy: 84.4%\n",
      "Validation accuracy: 83.6%\n",
      "Test accuracy: 90.0%\n"
     ]
    }
   ],
   "source": [
    "num_steps = 3001\n",
    "\n",
    "with tf.Session(graph=graph) as session:\n",
    "    tf.global_variables_initializer().run()\n",
    "    print(\"Initialized\")\n",
    "    for step in range(num_steps):\n",
    "        # Pick an offset within the training data, which has been randomized.\n",
    "        # Note: we could use better randomization across epochs.\n",
    "        offset = (step * batch_size) % (train_labels.shape[0] - batch_size)\n",
    "        # Generate a minibatch.\n",
    "        batch_data = train_dataset[offset:(offset + batch_size), :]\n",
    "        batch_labels = train_labels[offset:(offset + batch_size), :]\n",
    "        # Prepare a dictionary telling the session where to feed the minibatch.\n",
    "        # The key of the dictionary is the placeholder node of the graph to be fed,\n",
    "        # and the value is the numpy array to feed to it.\n",
    "        feed_dict = {tf_train_dataset : batch_data, tf_train_labels : batch_labels}\n",
    "        _, l, predictions = session.run([optimizer, loss, train_prediction], feed_dict=feed_dict)\n",
    "        if (step % display_step == 0):\n",
    "            print(\"Minibatch loss at step %d: %f\" % (step, l))\n",
    "            print(\"Minibatch accuracy: %.1f%%\" % accuracy(predictions, batch_labels))\n",
    "            print(\"Validation accuracy: %.1f%%\" % accuracy(valid_prediction.eval(), valid_labels))\n",
    "    print(\"Test accuracy: %.1f%%\" % accuracy(test_prediction.eval(), test_labels))"
   ]
  },
  {
   "cell_type": "markdown",
   "metadata": {},
   "source": [
    "## Problem 2\n",
    "Let's demonstrate an extreme case of overfitting. Restrict your training data to just a few batches. What happens?"
   ]
  },
  {
   "cell_type": "markdown",
   "metadata": {},
   "source": [
    "**Continuing from the Neural Network with L2 Regularization above** (แต่เลือก dataset เล็กๆ)"
   ]
  },
  {
   "cell_type": "code",
   "execution_count": 29,
   "metadata": {},
   "outputs": [
    {
     "name": "stdout",
     "output_type": "stream",
     "text": [
      "Initialized\n",
      "Minibatch loss at step 0: 3480.28125\n",
      "Minibatch accuracy: 7.8\n",
      "Validation accuracy: 25.5\n",
      "Minibatch loss at step 500: 21.05461883544922\n",
      "Minibatch accuracy: 100.0\n",
      "Validation accuracy: 76.5\n",
      "Minibatch loss at step 1000: 0.45291247963905334\n",
      "Minibatch accuracy: 100.0\n",
      "Validation accuracy: 77.3\n",
      "Minibatch loss at step 1500: 0.2797178030014038\n",
      "Minibatch accuracy: 100.0\n",
      "Validation accuracy: 77.0\n",
      "Minibatch loss at step 2000: 0.27359089255332947\n",
      "Minibatch accuracy: 100.0\n",
      "Validation accuracy: 76.9\n",
      "Minibatch loss at step 2500: 0.26596078276634216\n",
      "Minibatch accuracy: 100.0\n",
      "Validation accuracy: 77.6\n",
      "Minibatch loss at step 3000: 0.2613069415092468\n",
      "Minibatch accuracy: 100.0\n",
      "Validation accuracy: 77.7\n",
      "Test accuracy: 85.0\n"
     ]
    }
   ],
   "source": [
    "num_steps = 3001\n",
    "\n",
    "train_dataset_2 = train_dataset[:500, :]\n",
    "train_labels_2 = train_labels[:500]\n",
    "\n",
    "with tf.Session(graph=graph) as session:\n",
    "    tf.global_variables_initializer().run()\n",
    "    print(\"Initialized\")\n",
    "    for step in range(num_steps):\n",
    "        # Pick an offset within the training data, which has been randomized.\n",
    "        # Note: we could use better randomization across epochs.\n",
    "        offset = (step * batch_size) % (train_labels_2.shape[0] - batch_size)\n",
    "        # Generate a minibatch.\n",
    "        batch_data = train_dataset_2[offset:(offset + batch_size), :]\n",
    "        batch_labels = train_labels_2[offset:(offset + batch_size), :]\n",
    "        # Prepare a dictionary telling the session where to feed the minibatch.\n",
    "        # The key of the dictionary is the placeholder node of the graph to be fed,\n",
    "        # and the value is the numpy array to feed to it.\n",
    "        feed_dict = {tf_train_dataset : batch_data, tf_train_labels : batch_labels}\n",
    "        _, l, predictions = session.run([optimizer, loss, train_prediction], feed_dict=feed_dict)\n",
    "        if (step % 500 == 0):\n",
    "            print(\"Minibatch loss at step {}: {}\".format(step, l))\n",
    "            print(\"Minibatch accuracy: {:.1f}\".format(accuracy(predictions, batch_labels)))\n",
    "            print(\"Validation accuracy: {:.1f}\".format(accuracy(valid_prediction.eval(), valid_labels)))\n",
    "    print(\"Test accuracy: {:.1f}\".format(accuracy(test_prediction.eval(), test_labels)))"
   ]
  },
  {
   "cell_type": "markdown",
   "metadata": {},
   "source": [
    "จะเห็นว่า Minibatch accuracy แม่ง 100% หมดเลย โคตร overfiting"
   ]
  },
  {
   "cell_type": "markdown",
   "metadata": {},
   "source": [
    "## Problem 3\n",
    "Introduce Dropout on the hidden layer of the neural network. Remember: Dropout should only be introduced during training, not evaluation, otherwise your evaluation results would be stochastic as well. TensorFlow provides nn.dropout() for that, but you have to make sure it's only inserted during training."
   ]
  },
  {
   "cell_type": "code",
   "execution_count": 30,
   "metadata": {},
   "outputs": [],
   "source": [
    "graph = tf.Graph()\n",
    "with graph.as_default():\n",
    "\n",
    "    # Input data. For the training data, we use a placeholder that will be fed\n",
    "    # at run time with a training minibatch.\n",
    "    tf_train_dataset = tf.placeholder(tf.float32, shape=(batch_size, num_input))\n",
    "    tf_train_labels = tf.placeholder(tf.float32, shape=(batch_size, num_classes))\n",
    "    tf_valid_dataset = tf.constant(valid_dataset)\n",
    "    tf_test_dataset = tf.constant(test_dataset)\n",
    "\n",
    "    # Variables - store layers weight & bias\n",
    "    weights = {\n",
    "        'h1': tf.Variable(tf.truncated_normal([num_input, n_hidden_1])),\n",
    "        'out': tf.Variable(tf.truncated_normal([n_hidden_1, num_classes]))\n",
    "    }\n",
    "    biases = {\n",
    "        'b1': tf.Variable(tf.truncated_normal([n_hidden_1])),\n",
    "        'out': tf.Variable(tf.truncated_normal([num_classes]))\n",
    "    }\n",
    "\n",
    "    # Training computation.\n",
    "    # - Hidden fully connected layer with 256 neurons\n",
    "    layer_1 = tf.nn.relu(tf.add(tf.matmul(tf_train_dataset, weights['h1']), biases['b1']))\n",
    "    # - Dropout on hidden layer: RELU layer\n",
    "    keep_prob = tf.placeholder(\"float\")\n",
    "    layer_1_dropout = tf.nn.dropout(layer_1, keep_prob)\n",
    "    # - Output fully connected layer with a neuron for each class\n",
    "    logits = tf.matmul(layer_1_dropout, weights['out']) + biases['out']\n",
    "    \n",
    "    loss = tf.reduce_mean(tf.nn.softmax_cross_entropy_with_logits(labels=tf_train_labels, logits=logits))\n",
    "    regularizers = tf.nn.l2_loss(weights['h1']) + tf.nn.l2_loss(weights['out'])\n",
    "    loss = tf.reduce_mean(loss + beta * regularizers)\n",
    "\n",
    "    # Optimizer.\n",
    "    optimizer = tf.train.GradientDescentOptimizer(learning_rate).minimize(loss)\n",
    "\n",
    "    # Predictions for the training, validation, and test data.\n",
    "    train_prediction = tf.nn.softmax(logits)\n",
    "    layer_1_valid = tf.nn.relu(tf.add(tf.matmul(tf_valid_dataset, weights['h1']), biases['b1']))\n",
    "    valid_prediction = tf.nn.softmax(tf.matmul(layer_1_valid, weights['out']) + biases['out'])\n",
    "    layer_1_test = tf.nn.relu(tf.add(tf.matmul(tf_test_dataset, weights['h1']), biases['b1']))\n",
    "    test_prediction  = tf.nn.softmax(tf.matmul(layer_1_test, weights['out']) + biases['out'])"
   ]
  },
  {
   "cell_type": "code",
   "execution_count": 32,
   "metadata": {},
   "outputs": [
    {
     "name": "stdout",
     "output_type": "stream",
     "text": [
      "Initialized\n",
      "Minibatch loss at step 0: 3634.562500\n",
      "Minibatch accuracy: 10.9%\n",
      "Validation accuracy: 24.6%\n",
      "Minibatch loss at step 500: 21.340036\n",
      "Minibatch accuracy: 84.4%\n",
      "Validation accuracy: 83.1%\n",
      "Minibatch loss at step 1000: 1.004439\n",
      "Minibatch accuracy: 80.5%\n",
      "Validation accuracy: 82.5%\n",
      "Minibatch loss at step 1500: 0.959484\n",
      "Minibatch accuracy: 78.9%\n",
      "Validation accuracy: 82.3%\n",
      "Minibatch loss at step 2000: 0.636758\n",
      "Minibatch accuracy: 88.3%\n",
      "Validation accuracy: 82.8%\n",
      "Minibatch loss at step 2500: 0.821947\n",
      "Minibatch accuracy: 81.2%\n",
      "Validation accuracy: 83.4%\n",
      "Minibatch loss at step 3000: 0.808634\n",
      "Minibatch accuracy: 82.0%\n",
      "Validation accuracy: 83.4%\n",
      "Test accuracy: 89.8%\n"
     ]
    }
   ],
   "source": [
    "num_steps = 3001\n",
    "\n",
    "with tf.Session(graph=graph) as session:\n",
    "    tf.global_variables_initializer().run()\n",
    "    print(\"Initialized\")\n",
    "    for step in range(num_steps):\n",
    "        # Pick an offset within the training data, which has been randomized.\n",
    "        # Note: we could use better randomization across epochs.\n",
    "        offset = (step * batch_size) % (train_labels.shape[0] - batch_size)\n",
    "        # Generate a minibatch.\n",
    "        batch_data = train_dataset[offset:(offset + batch_size), :]\n",
    "        batch_labels = train_labels[offset:(offset + batch_size), :]\n",
    "        # Prepare a dictionary telling the session where to feed the minibatch.\n",
    "        # The key of the dictionary is the placeholder node of the graph to be fed,\n",
    "        # and the value is the numpy array to feed to it.\n",
    "        feed_dict = {tf_train_dataset : batch_data, tf_train_labels : batch_labels, keep_prob : 0.5}\n",
    "        _, l, predictions = session.run([optimizer, loss, train_prediction], feed_dict=feed_dict)\n",
    "        if (step % display_step == 0):\n",
    "            print(\"Minibatch loss at step %d: %f\" % (step, l))\n",
    "            print(\"Minibatch accuracy: %.1f%%\" % accuracy(predictions, batch_labels))\n",
    "            print(\"Validation accuracy: %.1f%%\" % accuracy(valid_prediction.eval(), valid_labels))\n",
    "    print(\"Test accuracy: %.1f%%\" % accuracy(test_prediction.eval(), test_labels))"
   ]
  },
  {
   "cell_type": "markdown",
   "metadata": {},
   "source": [
    "What happens to our extreme overfitting case?"
   ]
  },
  {
   "cell_type": "code",
   "execution_count": 33,
   "metadata": {},
   "outputs": [
    {
     "name": "stdout",
     "output_type": "stream",
     "text": [
      "Initialized\n",
      "Minibatch loss at step 0: 3677.375\n",
      "Minibatch accuracy: 6.2\n",
      "Validation accuracy: 34.4\n",
      "Minibatch loss at step 500: 21.168010711669922\n",
      "Minibatch accuracy: 99.2\n",
      "Validation accuracy: 76.9\n",
      "Minibatch loss at step 1000: 0.5170140266418457\n",
      "Minibatch accuracy: 97.7\n",
      "Validation accuracy: 76.3\n",
      "Minibatch loss at step 1500: 0.31531375646591187\n",
      "Minibatch accuracy: 100.0\n",
      "Validation accuracy: 77.2\n",
      "Minibatch loss at step 2000: 0.3105049729347229\n",
      "Minibatch accuracy: 100.0\n",
      "Validation accuracy: 77.2\n",
      "Minibatch loss at step 2500: 0.29130199551582336\n",
      "Minibatch accuracy: 100.0\n",
      "Validation accuracy: 78.0\n",
      "Minibatch loss at step 3000: 0.2872098982334137\n",
      "Minibatch accuracy: 100.0\n",
      "Validation accuracy: 77.5\n",
      "Test accuracy: 85.1\n"
     ]
    }
   ],
   "source": [
    "num_steps = 3001\n",
    "beta = 0.01\n",
    "\n",
    "train_dataset_2 = train_dataset[:500, :]\n",
    "train_labels_2 = train_labels[:500]\n",
    "\n",
    "with tf.Session(graph=graph) as session:\n",
    "    tf.initialize_all_variables().run()\n",
    "    print(\"Initialized\")\n",
    "    for step in range(num_steps):\n",
    "        # Pick an offset within the training data, which has been randomized.\n",
    "        # Note: we could use better randomization across epochs.\n",
    "        offset = (step * batch_size) % (train_labels_2.shape[0] - batch_size)\n",
    "        # Generate a minibatch.\n",
    "        batch_data = train_dataset_2[offset:(offset + batch_size), :]\n",
    "        batch_labels = train_labels_2[offset:(offset + batch_size), :]\n",
    "        # Prepare a dictionary telling the session where to feed the minibatch.\n",
    "        # The key of the dictionary is the placeholder node of the graph to be fed,\n",
    "        # and the value is the numpy array to feed to it.\n",
    "        feed_dict = {tf_train_dataset : batch_data, tf_train_labels : batch_labels,  keep_prob : 0.5}\n",
    "        _, l, predictions = session.run([optimizer, loss, train_prediction], feed_dict=feed_dict)\n",
    "        if (step % 500 == 0):\n",
    "            print(\"Minibatch loss at step {}: {}\".format(step, l))\n",
    "            print(\"Minibatch accuracy: {:.1f}\".format(accuracy(predictions, batch_labels)))\n",
    "            print(\"Validation accuracy: {:.1f}\".format(accuracy(valid_prediction.eval(), valid_labels)))\n",
    "    print(\"Test accuracy: {:.1f}\".format(accuracy(test_prediction.eval(), test_labels)))"
   ]
  },
  {
   "cell_type": "markdown",
   "metadata": {},
   "source": [
    "จะเห็นว่า Minibatch 100% รัวๆ"
   ]
  },
  {
   "cell_type": "markdown",
   "metadata": {},
   "source": [
    "## Problem 4\n",
    "Try to get the best performance you can using a multi-layer model! The best reported test accuracy using a deep network is 97.1%.\n",
    "\n",
    "One avenue you can explore is to add multiple layers.\n",
    "\n",
    "Another one is to use learning rate decay:\n",
    "\n",
    "    `global_step = tf.Variable(0)  # count the number of steps taken.`\n",
    "    `learning_rate = tf.train.exponential_decay(0.5, global_step, ...)`\n",
    "    `optimizer = tf.train.GradientDescentOptimizer(learning_rate).minimize(loss, global_step=global_step)`"
   ]
  },
  {
   "cell_type": "code",
   "execution_count": 72,
   "metadata": {},
   "outputs": [],
   "source": [
    "import math as math\n",
    "\n",
    "# Parameters\n",
    "batch_size = 128\n",
    "\n",
    "# Network Parameters\n",
    "n_hidden_1 = 1200 # 1st layer number of neurons\n",
    "n_hidden_2 = int(n_hidden_1*0.5)\n",
    "n_hidden_3 = int(n_hidden_1*0.5*0.5)\n",
    "n_hidden_4 = int(n_hidden_1*0.5*0.5*0.5)\n",
    "n_hidden_5 = int(n_hidden_1*0.5*0.5*0.5*0.5)\n",
    "\n",
    "num_input = 784 # img shape: 28*28\n",
    "num_classes = 10 # A-J alphabet\n",
    "beta = 0.001 # parameter of regularization factor"
   ]
  },
  {
   "cell_type": "markdown",
   "metadata": {},
   "source": [
    "การเลือก initial weight \n",
    "\n",
    "Ref : https://www.quora.com/How-do-you-select-weights-and-biases-for-a-Neural-Network\n",
    "\n",
    "> There is no rule of thumb to select the weights.. You could start with random values of the same order, say - 1 to 1 or -0.5 to 0. 5\n",
    "\n",
    "> Same hoes for biases.\n",
    "\n",
    "> However in some books I have seen them take the inverse of the square root of the number of nodes a node is connected to as the weight linked to that node as a starting point.\n",
    "\n",
    "> Random does the job just fine though and I haven't used this convention nor have I seen it in popular github repositories"
   ]
  },
  {
   "cell_type": "code",
   "execution_count": 73,
   "metadata": {},
   "outputs": [],
   "source": [
    "graph = tf.Graph()\n",
    "with graph.as_default():\n",
    "\n",
    "    # Input data. For the training data, we use a placeholder that will be fed\n",
    "    # at run time with a training minibatch.\n",
    "    tf_train_dataset = tf.placeholder(tf.float32, shape=(batch_size, num_input))\n",
    "    tf_train_labels = tf.placeholder(tf.float32, shape=(batch_size, num_classes))\n",
    "    tf_valid_dataset = tf.constant(valid_dataset)\n",
    "    tf_test_dataset = tf.constant(test_dataset)\n",
    "\n",
    "    # Variables - store layers weight & bias\n",
    "    weights = {\n",
    "        'h1': tf.Variable(tf.truncated_normal([num_input, n_hidden_1], stddev=math.sqrt(2.0/num_input) )),\n",
    "        'h2': tf.Variable(tf.truncated_normal([n_hidden_1, n_hidden_2], stddev=math.sqrt(2.0/n_hidden_1) )),\n",
    "        'h3': tf.Variable(tf.truncated_normal([n_hidden_2, n_hidden_3], stddev=math.sqrt(2.0/n_hidden_2) )),\n",
    "        'h4': tf.Variable(tf.truncated_normal([n_hidden_3, n_hidden_4], stddev=math.sqrt(2.0/n_hidden_3) )),\n",
    "        'h5': tf.Variable(tf.truncated_normal([n_hidden_4, n_hidden_5], stddev=math.sqrt(2.0/n_hidden_4) )),\n",
    "        'out': tf.Variable(tf.truncated_normal([n_hidden_5, num_classes], stddev=math.sqrt(2.0/n_hidden_5) ))\n",
    "    }\n",
    "\n",
    "    biases = {\n",
    "        'b1': tf.Variable(tf.truncated_normal([n_hidden_1])),\n",
    "        'b2': tf.Variable(tf.truncated_normal([n_hidden_2])),\n",
    "        'b3': tf.Variable(tf.truncated_normal([n_hidden_3])),\n",
    "        'b4': tf.Variable(tf.truncated_normal([n_hidden_4])),\n",
    "        'b5': tf.Variable(tf.truncated_normal([n_hidden_5])),\n",
    "        'out': tf.Variable(tf.truncated_normal([num_classes]))\n",
    "    }\n",
    "    keep_prob = tf.placeholder(\"float\")\n",
    "\n",
    "    # Training computation.\n",
    "    layer_1 = tf.nn.relu(tf.add(tf.matmul(tf_train_dataset, weights['h1']), biases['b1']))\n",
    "    layer_1_dropout = tf.nn.dropout(layer_1, keep_prob)\n",
    "    \n",
    "    layer_2 = tf.nn.relu(tf.add(tf.matmul(layer_1_dropout, weights['h2']), biases['b2']))\n",
    "    layer_2_dropout = tf.nn.dropout(layer_2, keep_prob)\n",
    "    \n",
    "    layer_3 = tf.nn.relu(tf.add(tf.matmul(layer_2_dropout, weights['h3']), biases['b3']))\n",
    "    layer_3_dropout = tf.nn.dropout(layer_3, keep_prob)\n",
    "    \n",
    "    layer_4 = tf.nn.relu(tf.add(tf.matmul(layer_3_dropout, weights['h4']), biases['b4']))\n",
    "    layer_4_dropout = tf.nn.dropout(layer_4, keep_prob)\n",
    "    \n",
    "    layer_5 = tf.nn.relu(tf.add(tf.matmul(layer_4_dropout, weights['h5']), biases['b5']))\n",
    "    layer_5_dropout = tf.nn.dropout(layer_5, keep_prob)\n",
    "    \n",
    "    # Output layer\n",
    "    logits = tf.matmul(layer_5_dropout, weights['out']) + biases['out']\n",
    "    \n",
    "    # Normal loss function\n",
    "    loss = tf.reduce_mean(tf.nn.softmax_cross_entropy_with_logits(labels=tf_train_labels, logits=logits))\n",
    "    # Loss function with L2 Regularization \n",
    "    regularizers = tf.nn.l2_loss(weights['h1']) + tf.nn.l2_loss(weights['h2']) + \\\n",
    "                   tf.nn.l2_loss(weights['h3']) + tf.nn.l2_loss(weights['h4']) + \\\n",
    "                   tf.nn.l2_loss(weights['h5']) + tf.nn.l2_loss(weights['out'])               \n",
    "    loss = tf.reduce_mean(loss + beta*regularizers)\n",
    "\n",
    "    # Optimizer with decaying learning rate beta=0.5\n",
    "    global_step = tf.Variable(0)  # count the number of steps taken.\n",
    "    start_learning_rate = 0.5\n",
    "    learning_rate = tf.train.exponential_decay(start_learning_rate, global_step, 100000, 0.96, staircase=True)\n",
    "    optimizer = tf.train.GradientDescentOptimizer(learning_rate).minimize(loss, global_step=global_step)\n",
    "\n",
    "    # Predictions for the training\n",
    "    train_prediction = tf.nn.softmax(logits)\n",
    "    \n",
    "    # Predictions for the validation\n",
    "    layer_1_valid = tf.nn.relu(tf.add(tf.matmul(tf_valid_dataset, weights['h1']), biases['b1']))\n",
    "    layer_2_valid = tf.nn.relu(tf.add(tf.matmul(layer_1_valid, weights['h2']), biases['b2']))\n",
    "    layer_3_valid = tf.nn.relu(tf.add(tf.matmul(layer_2_valid, weights['h3']), biases['b3']))\n",
    "    layer_4_valid = tf.nn.relu(tf.add(tf.matmul(layer_3_valid, weights['h4']), biases['b4']))\n",
    "    layer_5_valid = tf.nn.relu(tf.add(tf.matmul(layer_4_valid, weights['h5']), biases['b5']))\n",
    "    valid_prediction = tf.nn.softmax(tf.matmul(layer_5_valid, weights['out']) + biases['out'])\n",
    "    \n",
    "    # Predictions for the test data.\n",
    "    layer_1_test = tf.nn.relu(tf.add(tf.matmul(tf_test_dataset, weights['h1']), biases['b1']))\n",
    "    layer_2_test = tf.nn.relu(tf.add(tf.matmul(layer_1_test, weights['h2']), biases['b2']))\n",
    "    layer_3_test = tf.nn.relu(tf.add(tf.matmul(layer_2_test, weights['h3']), biases['b3']))\n",
    "    layer_4_test = tf.nn.relu(tf.add(tf.matmul(layer_3_test, weights['h4']), biases['b4']))\n",
    "    layer_5_test = tf.nn.relu(tf.add(tf.matmul(layer_4_test, weights['h5']), biases['b5']))\n",
    "    test_prediction  = tf.nn.softmax(tf.matmul(layer_5_test, weights['out']) + biases['out'])"
   ]
  },
  {
   "cell_type": "code",
   "execution_count": 74,
   "metadata": {},
   "outputs": [
    {
     "name": "stdout",
     "output_type": "stream",
     "text": [
      "Initialized\n",
      "Minibatch loss at step 0: 9.148268\n",
      "Minibatch accuracy: 10.2%\n",
      "Validation accuracy: 10.3%\n",
      "Minibatch loss at step 1000: 2.062473\n",
      "Minibatch accuracy: 67.2%\n",
      "Validation accuracy: 70.6%\n",
      "Minibatch loss at step 2000: 1.130923\n",
      "Minibatch accuracy: 83.6%\n",
      "Validation accuracy: 83.2%\n",
      "Minibatch loss at step 3000: 1.015326\n",
      "Minibatch accuracy: 81.2%\n",
      "Validation accuracy: 83.6%\n",
      "Minibatch loss at step 4000: 1.115205\n",
      "Minibatch accuracy: 75.8%\n",
      "Validation accuracy: 83.5%\n",
      "Minibatch loss at step 5000: 0.833658\n",
      "Minibatch accuracy: 85.9%\n",
      "Validation accuracy: 84.0%\n",
      "Minibatch loss at step 6000: 0.991682\n",
      "Minibatch accuracy: 77.3%\n",
      "Validation accuracy: 85.2%\n",
      "Minibatch loss at step 7000: 0.983692\n",
      "Minibatch accuracy: 79.7%\n",
      "Validation accuracy: 84.3%\n",
      "Minibatch loss at step 8000: 0.769879\n",
      "Minibatch accuracy: 86.7%\n",
      "Validation accuracy: 84.7%\n",
      "Minibatch loss at step 9000: 0.846152\n",
      "Minibatch accuracy: 82.0%\n",
      "Validation accuracy: 85.2%\n",
      "Minibatch loss at step 10000: 0.856276\n",
      "Minibatch accuracy: 83.6%\n",
      "Validation accuracy: 84.8%\n",
      "Minibatch loss at step 11000: 0.839717\n",
      "Minibatch accuracy: 81.2%\n",
      "Validation accuracy: 85.5%\n",
      "Minibatch loss at step 12000: 0.851772\n",
      "Minibatch accuracy: 81.2%\n",
      "Validation accuracy: 85.6%\n",
      "Minibatch loss at step 13000: 0.708072\n",
      "Minibatch accuracy: 85.9%\n",
      "Validation accuracy: 85.8%\n",
      "Minibatch loss at step 14000: 0.684902\n",
      "Minibatch accuracy: 87.5%\n",
      "Validation accuracy: 85.7%\n",
      "Minibatch loss at step 15000: 0.740457\n",
      "Minibatch accuracy: 87.5%\n",
      "Validation accuracy: 86.0%\n",
      "Test accuracy: 92.5%\n"
     ]
    }
   ],
   "source": [
    "num_steps = 15001\n",
    "\n",
    "with tf.Session(graph=graph) as session:\n",
    "    tf.global_variables_initializer().run()\n",
    "    print(\"Initialized\")\n",
    "    for step in range(num_steps):\n",
    "        # Pick an offset within the training data, which has been randomized.\n",
    "        # Note: we could use better randomization across epochs.\n",
    "        offset = (step * batch_size) % (train_labels.shape[0] - batch_size)\n",
    "        # Generate a minibatch.\n",
    "        batch_data = train_dataset[offset:(offset + batch_size), :]\n",
    "        batch_labels = train_labels[offset:(offset + batch_size), :]\n",
    "        # Prepare a dictionary telling the session where to feed the minibatch.\n",
    "        # The key of the dictionary is the placeholder node of the graph to be fed,\n",
    "        # and the value is the numpy array to feed to it.\n",
    "        feed_dict = {tf_train_dataset : batch_data, tf_train_labels : batch_labels, keep_prob : 0.5}\n",
    "        _, l, predictions = session.run([optimizer, loss, train_prediction], feed_dict=feed_dict)\n",
    "        if (step % 1000 == 0):\n",
    "            print(\"Minibatch loss at step %d: %f\" % (step, l))\n",
    "            print(\"Minibatch accuracy: %.1f%%\" % accuracy(predictions, batch_labels))\n",
    "            print(\"Validation accuracy: %.1f%%\" % accuracy(valid_prediction.eval(), valid_labels))\n",
    "    print(\"Test accuracy: %.1f%%\" % accuracy(test_prediction.eval(), test_labels))"
   ]
  },
  {
   "cell_type": "markdown",
   "metadata": {},
   "source": [
    "- 91.3%"
   ]
  },
  {
   "cell_type": "code",
   "execution_count": null,
   "metadata": {},
   "outputs": [],
   "source": []
  }
 ],
 "metadata": {
  "kernelspec": {
   "display_name": "Python 3",
   "language": "python",
   "name": "python3"
  },
  "language_info": {
   "codemirror_mode": {
    "name": "ipython",
    "version": 3
   },
   "file_extension": ".py",
   "mimetype": "text/x-python",
   "name": "python",
   "nbconvert_exporter": "python",
   "pygments_lexer": "ipython3",
   "version": "3.6.1"
  }
 },
 "nbformat": 4,
 "nbformat_minor": 2
}
