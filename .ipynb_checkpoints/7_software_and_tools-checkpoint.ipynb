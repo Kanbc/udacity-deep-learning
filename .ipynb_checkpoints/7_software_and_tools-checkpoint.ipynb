{
 "cells": [
  {
   "cell_type": "markdown",
   "metadata": {},
   "source": [
    "## TensorFlow\n",
    "We will be using TensorFlow™, an open-source library developed by Google, to build deep learning models throughout the course.\n",
    "\n",
    "## Download and Setup\n",
    "#### Install TensorFlow on your computer**\n",
    "Follow the instructions to download and setup TensorFlow. Choose one of the three ways to install:\n",
    "\n",
    "- **Pip**: Install TensorFlow directly on your computer. You need to have Python 2.7 or 3.x and pip installed; and this may impact other Python packages that you may have.\n",
    "- **Virtualenv**: Install TensorFlow in an isolated (virtual) Python environment. You need to have Python 2.7 or 3.x and virtualenv installed; this will not affect Python packages in any other environment.\n",
    "- **Docker**: Run TensorFlow in an isolated Docker container (virtual machine) on your computer. You need to have Vagrant, Docker and virtualization software like VirtualBox installed; this will keep TensorFlow completely isolated from the rest of your computer, but may require more memory to run.\n",
    "\n",
    "\n",
    "**Links**: Tutorials, How-Tos, Resources, Source code, Stack Overflow"
   ]
  },
  {
   "cell_type": "code",
   "execution_count": null,
   "metadata": {},
   "outputs": [],
   "source": []
  }
 ],
 "metadata": {
  "kernelspec": {
   "display_name": "Python 3",
   "language": "python",
   "name": "python3"
  },
  "language_info": {
   "codemirror_mode": {
    "name": "ipython",
    "version": 3
   },
   "file_extension": ".py",
   "mimetype": "text/x-python",
   "name": "python",
   "nbconvert_exporter": "python",
   "pygments_lexer": "ipython3",
   "version": "3.6.1"
  }
 },
 "nbformat": 4,
 "nbformat_minor": 2
}
