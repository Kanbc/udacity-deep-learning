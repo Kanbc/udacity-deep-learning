{
 "cells": [
  {
   "cell_type": "code",
   "execution_count": 1,
   "metadata": {},
   "outputs": [],
   "source": [
    "# These are all the modules we'll be using later. Make sure you can import them\n",
    "# before proceeding further.\n",
    "from __future__ import print_function\n",
    "import imageio\n",
    "import matplotlib.pyplot as plt\n",
    "import numpy as np\n",
    "import os\n",
    "import sys\n",
    "import tarfile\n",
    "from IPython.display import display, Image\n",
    "from sklearn.linear_model import LogisticRegression\n",
    "from six.moves.urllib.request import urlretrieve\n",
    "from six.moves import cPickle as pickle\n",
    "import glob\n",
    "\n",
    "# Config the matplotlib backend as plotting inline in IPython\n",
    "%matplotlib inline"
   ]
  },
  {
   "cell_type": "code",
   "execution_count": 2,
   "metadata": {},
   "outputs": [],
   "source": [
    "file_input = 'notMNIST.pickle'\n",
    "with open(file_input, \"rb\") as file:\n",
    "    dataset = pickle.load(file)"
   ]
  },
  {
   "cell_type": "code",
   "execution_count": 3,
   "metadata": {},
   "outputs": [],
   "source": [
    "train_dataset = dataset['train_dataset']\n",
    "train_labels = dataset['train_labels']\n",
    "valid_dataset = dataset['valid_dataset']\n",
    "valid_labels = dataset['valid_labels']\n",
    "test_dataset = dataset['test_dataset']\n",
    "test_labels = dataset['test_labels']\n",
    "\n",
    "# convert matrix 28*28 to vector 784\n",
    "train_shape = train_dataset.shape\n",
    "valid_shape = valid_dataset.shape\n",
    "test_shape = test_dataset.shape\n",
    "\n",
    "train_dataset = np.reshape(train_dataset, (train_shape[0],train_shape[1]*train_shape[2]))\n",
    "valid_dataset = np.reshape(valid_dataset, (valid_shape[0],valid_shape[1]*valid_shape[2]))\n",
    "test_dataset = np.reshape(test_dataset, (test_shape[0],test_shape[1]*test_shape[2]))"
   ]
  },
  {
   "cell_type": "markdown",
   "metadata": {},
   "source": [
    "## Problem 5\n",
    "By construction, this dataset might contain a lot of overlapping samples, including training data that's also contained in the validation and test set! Overlap between training and test can skew the results if you expect to use your model in an environment where there is never an overlap, but are actually ok if you expect to see training samples recur when you use it. Measure how much overlap there is between training, validation and test samples.\n",
    "\n",
    "Optional questions:\n",
    "\n",
    "- What about near duplicates between datasets? (images that are almost identical)\n",
    "- Create a sanitized validation and test set, and compare your accuracy on those in subsequent assignments."
   ]
  },
  {
   "cell_type": "markdown",
   "metadata": {},
   "source": [
    "ดู ส่วนที่ overlap ระหว่าง training set กับ validation set & test set ถ้าเป็นรูปเดียวกันจะทำให้เจอปัญหา overfiting ตอนทำ CV \n",
    "\n",
    "ดังนั้นต้องลบรูปใน validation set/test set ที่ overlap กับรูปใน train set ให้หมด"
   ]
  },
  {
   "cell_type": "code",
   "execution_count": 4,
   "metadata": {},
   "outputs": [
    {
     "name": "stdout",
     "output_type": "stream",
     "text": [
      "(200000, 784)\n",
      "(10000, 784)\n",
      "(10000, 784)\n"
     ]
    }
   ],
   "source": [
    "print(train_dataset.shape)\n",
    "print(valid_dataset.shape)\n",
    "print(test_dataset.shape)"
   ]
  },
  {
   "cell_type": "markdown",
   "metadata": {},
   "source": [
    "## Problem 6\n",
    "Let's get an idea of what an off-the-shelf classifier can give you on this data. It's always good to check that there is something to learn, and that it's a problem that is not so trivial that a canned solution solves it.\n",
    "\n",
    "Train a simple model on this data using 50, 100, 1000 and 5000 training samples. Hint: you can use the LogisticRegression model from sklearn.linear_model.\n",
    "\n",
    "Optional question: train an off-the-shelf model on all the data!"
   ]
  },
  {
   "cell_type": "markdown",
   "metadata": {},
   "source": [
    "#### 50 training_samples"
   ]
  },
  {
   "cell_type": "code",
   "execution_count": 18,
   "metadata": {},
   "outputs": [
    {
     "name": "stdout",
     "output_type": "stream",
     "text": [
      "Accuracy(%) : 49.107142857142854\n"
     ]
    }
   ],
   "source": [
    "train_dataset50 = train_dataset[0:50]\n",
    "train_labels50 = train_labels[0:50]\n",
    "\n",
    "model50 = LogisticRegression()\n",
    "model50.fit(train_dataset50, train_labels50)\n",
    "\n",
    "# remove overlap validation set\n",
    "sanitized_valid_dataset50 = valid_dataset[(train_dataset50[:,None] != valid_dataset).all(axis=(2)).any(0)]\n",
    "sanitized_valid_labels50 = valid_labels[(train_dataset50[:,None] != valid_dataset).all(axis=(2)).any(0)]\n",
    "\n",
    "# accuracy\n",
    "accuracy50 = model50.score(sanitized_valid_dataset50, sanitized_valid_labels50)\n",
    "print(\"Accuracy(%) :\",accuracy50*100)"
   ]
  },
  {
   "cell_type": "markdown",
   "metadata": {},
   "source": [
    "#### 100 training_samples"
   ]
  },
  {
   "cell_type": "code",
   "execution_count": 19,
   "metadata": {},
   "outputs": [
    {
     "name": "stdout",
     "output_type": "stream",
     "text": [
      "Accuracy(%) : 54.71698113207547\n"
     ]
    }
   ],
   "source": [
    "train_dataset100 = train_dataset[0:100]\n",
    "train_labels100 = train_labels[0:100]\n",
    "\n",
    "model100 = LogisticRegression()\n",
    "model100.fit(train_dataset100, train_labels100)\n",
    "\n",
    "# remove overlap validation set\n",
    "sanitized_valid_dataset100 = valid_dataset[(train_dataset100[:,None] != valid_dataset).all(axis=(2)).any(0)]\n",
    "sanitized_valid_labels100 = valid_labels[(train_dataset100[:,None] != valid_dataset).all(axis=(2)).any(0)]\n",
    "\n",
    "# accuracy\n",
    "accuracy100 = model100.score(sanitized_valid_dataset100, sanitized_valid_labels100)\n",
    "print(\"Accuracy(%) :\",accuracy100*100)"
   ]
  },
  {
   "cell_type": "markdown",
   "metadata": {},
   "source": [
    "#### 1000 training_samples"
   ]
  },
  {
   "cell_type": "code",
   "execution_count": 20,
   "metadata": {},
   "outputs": [
    {
     "name": "stdout",
     "output_type": "stream",
     "text": [
      "Accuracy(%) : 63.59649122807017\n"
     ]
    }
   ],
   "source": [
    "train_dataset1000 = train_dataset[0:1000]\n",
    "train_labels1000 = train_labels[0:1000]\n",
    "\n",
    "model1000 = LogisticRegression()\n",
    "model1000.fit(train_dataset1000, train_labels1000)\n",
    "\n",
    "# remove overlap validation set\n",
    "sanitized_valid_dataset1000 = valid_dataset[(train_dataset1000[:,None] != valid_dataset).all(axis=(2)).any(0)]\n",
    "sanitized_valid_labels1000 = valid_labels[(train_dataset1000[:,None] != valid_dataset).all(axis=(2)).any(0)]\n",
    "\n",
    "# accuracy\n",
    "accuracy1000 = model1000.score(sanitized_valid_dataset1000, sanitized_valid_labels1000)\n",
    "print(\"Accuracy(%) :\",accuracy1000*100)"
   ]
  },
  {
   "cell_type": "markdown",
   "metadata": {},
   "source": [
    "#### 5000 training_samples"
   ]
  },
  {
   "cell_type": "code",
   "execution_count": 21,
   "metadata": {},
   "outputs": [
    {
     "name": "stdout",
     "output_type": "stream",
     "text": [
      "Accuracy(%) : 79.41080729166666\n"
     ]
    }
   ],
   "source": [
    "train_dataset5000 = train_dataset[0:5000]\n",
    "train_labels5000 = train_labels[0:5000]\n",
    "\n",
    "model5000 = LogisticRegression()\n",
    "model5000.fit(train_dataset5000, train_labels5000)\n",
    "\n",
    "# remove overlap validation set\n",
    "sanitized_valid_dataset5000 = valid_dataset[(train_dataset5000[:,None] != valid_dataset).all(axis=(2)).any(0)]\n",
    "sanitized_valid_labels5000 = valid_labels[(train_dataset5000[:,None] != valid_dataset).all(axis=(2)).any(0)]\n",
    "\n",
    "# accuracy\n",
    "accuracy5000 = model5000.score(sanitized_valid_dataset5000, sanitized_valid_labels5000)\n",
    "print(\"Accuracy(%) :\",accuracy5000*100)"
   ]
  }
 ],
 "metadata": {
  "kernelspec": {
   "display_name": "Python 3",
   "language": "python",
   "name": "python3"
  },
  "language_info": {
   "codemirror_mode": {
    "name": "ipython",
    "version": 3
   },
   "file_extension": ".py",
   "mimetype": "text/x-python",
   "name": "python",
   "nbconvert_exporter": "python",
   "pygments_lexer": "ipython3",
   "version": "3.6.1"
  }
 },
 "nbformat": 4,
 "nbformat_minor": 2
}
