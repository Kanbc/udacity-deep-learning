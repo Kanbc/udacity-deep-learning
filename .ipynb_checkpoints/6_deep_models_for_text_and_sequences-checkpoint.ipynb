{
 "cells": [
  {
   "cell_type": "markdown",
   "metadata": {},
   "source": [
    "# Deep Models for Text and Sequences"
   ]
  },
  {
   "cell_type": "markdown",
   "metadata": {},
   "source": [
    "## Semantic Ambiguity"
   ]
  },
  {
   "cell_type": "markdown",
   "metadata": {},
   "source": [
    "<img src=\"img/40.png\" width=\"500px\">"
   ]
  },
  {
   "cell_type": "markdown",
   "metadata": {},
   "source": [
    "คำต่างกันที่เรียกสิ่งเดียวกัน มีความเหมือนกันอยู่ เราจะทำไงเพื่อบ่งบอกความเหมือนระหว่างคำต่างๆ\n",
    "- Unsupervised Learning จะมาช่วยแก้ปัญหานี้ เพราะข้อมูลที่เราดึงมา อาจมาจาก wiki บลาๆ **ไม่มี label**"
   ]
  },
  {
   "cell_type": "markdown",
   "metadata": {},
   "source": [
    "## Embeddings"
   ]
  },
  {
   "cell_type": "markdown",
   "metadata": {},
   "source": [
    "Word embeddings are a modern approach for representing text in natural language processing."
   ]
  },
  {
   "cell_type": "markdown",
   "metadata": {},
   "source": [
    "Embedding algorithms like **word2vec** and **GloVe** are key to the state-of-the-art results achieved by neural network models on natural language processing problems like machine translation."
   ]
  },
  {
   "cell_type": "markdown",
   "metadata": {},
   "source": [
    "<img src=\"img/44.png\" width=\"500px\">"
   ]
  },
  {
   "cell_type": "markdown",
   "metadata": {},
   "source": [
    "จะ visualize ดูได้ ก็ทำ nearest-neighbot ดู"
   ]
  },
  {
   "cell_type": "markdown",
   "metadata": {},
   "source": [
    "## Word2Vec"
   ]
  },
  {
   "cell_type": "markdown",
   "metadata": {},
   "source": [
    "<img src=\"img/45.png\" width=\"500px\">"
   ]
  },
  {
   "cell_type": "markdown",
   "metadata": {},
   "source": [
    "หลังจากได้ embedding ของแต่ละคำมาแล้ว (trained) การจะเทียบความต่างระหว่างคำสองคำใช้ cosine จะดีกว่า"
   ]
  },
  {
   "cell_type": "markdown",
   "metadata": {},
   "source": [
    "<img src=\"img/48.png\" width=\"500px\">"
   ]
  },
  {
   "cell_type": "markdown",
   "metadata": {},
   "source": [
    "try to predict word ก็ตาม flow ข้างล่าง (คล้ายๆ NN)"
   ]
  },
  {
   "cell_type": "markdown",
   "metadata": {},
   "source": [
    "<img src=\"img/49.png\" width=\"500px\">"
   ]
  },
  {
   "cell_type": "markdown",
   "metadata": {},
   "source": [
    "ถ้าทำแบบนี้กรณี dict ใหญ่ๆ vector สีเขียวสุดท้ายจะใหญ่มาก ดังนั้นจะใช้ trick RANDOM SAMPLE สุ่มเลือกตัวที่ไม่เกี่ยวข้องออก"
   ]
  },
  {
   "cell_type": "markdown",
   "metadata": {},
   "source": [
    "<img src=\"img/50.png\" width=\"500px\">"
   ]
  },
  {
   "cell_type": "markdown",
   "metadata": {},
   "source": [
    "จะทำให้ performance ดีขึ้น"
   ]
  },
  {
   "cell_type": "markdown",
   "metadata": {},
   "source": [
    "## t-SNE"
   ]
  },
  {
   "cell_type": "markdown",
   "metadata": {},
   "source": [
    "Ref : Laurens van der Maaten and Geoffrey Hinton. [Visualizing Data using t-SNE](http://jmlr.csail.mit.edu/papers/volume9/vandermaaten08a/vandermaaten08a.pdf). Journal of Machine Learning Research, 2008. Vol. 9, pp. 2579-2605."
   ]
  },
  {
   "cell_type": "markdown",
   "metadata": {},
   "source": [
    "One very effective technique that reduce the dimensionality of the embedding space down to two dimensions, and to plug the two dimensional representation.\n",
    "\n",
    "ดีกว่า PCA เพราะ PCA จะทำ dimension หายไปเยอะอยู่"
   ]
  },
  {
   "cell_type": "markdown",
   "metadata": {},
   "source": [
    "<img src=\"img/47.png\" width=\"500px\">\n",
    "<img src=\"img/46.png\" width=\"500px\">"
   ]
  },
  {
   "cell_type": "markdown",
   "metadata": {},
   "source": []
  }
 ],
 "metadata": {
  "kernelspec": {
   "display_name": "Python 3",
   "language": "python",
   "name": "python3"
  },
  "language_info": {
   "codemirror_mode": {
    "name": "ipython",
    "version": 3
   },
   "file_extension": ".py",
   "mimetype": "text/x-python",
   "name": "python",
   "nbconvert_exporter": "python",
   "pygments_lexer": "ipython3",
   "version": "3.6.1"
  }
 },
 "nbformat": 4,
 "nbformat_minor": 2
}
